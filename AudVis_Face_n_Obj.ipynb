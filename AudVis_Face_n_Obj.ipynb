{
  "nbformat": 4,
  "nbformat_minor": 0,
  "metadata": {
    "colab": {
      "name": "AudVis_Face_n_Obj.ipynb",
      "provenance": []
    },
    "kernelspec": {
      "name": "python3",
      "display_name": "Python 3"
    },
    "accelerator": "GPU"
  },
  "cells": [
    {
      "cell_type": "code",
      "metadata": {
        "id": "qDCW4y20qGbV",
        "colab_type": "code",
        "colab": {
          "base_uri": "https://localhost:8080/",
          "height": 207
        },
        "outputId": "2b1bcd33-ec37-4cbb-fa4c-0eb2ac82a208"
      },
      "source": [
        "pip install gTTS"
      ],
      "execution_count": 1,
      "outputs": [
        {
          "output_type": "stream",
          "text": [
            "Requirement already satisfied: gTTS in /usr/local/lib/python3.6/dist-packages (2.1.1)\n",
            "Requirement already satisfied: gtts-token>=1.1.3 in /usr/local/lib/python3.6/dist-packages (from gTTS) (1.1.3)\n",
            "Requirement already satisfied: six in /usr/local/lib/python3.6/dist-packages (from gTTS) (1.12.0)\n",
            "Requirement already satisfied: click in /usr/local/lib/python3.6/dist-packages (from gTTS) (7.1.2)\n",
            "Requirement already satisfied: beautifulsoup4 in /usr/local/lib/python3.6/dist-packages (from gTTS) (4.6.3)\n",
            "Requirement already satisfied: requests in /usr/local/lib/python3.6/dist-packages (from gTTS) (2.23.0)\n",
            "Requirement already satisfied: certifi>=2017.4.17 in /usr/local/lib/python3.6/dist-packages (from requests->gTTS) (2020.6.20)\n",
            "Requirement already satisfied: idna<3,>=2.5 in /usr/local/lib/python3.6/dist-packages (from requests->gTTS) (2.9)\n",
            "Requirement already satisfied: chardet<4,>=3.0.2 in /usr/local/lib/python3.6/dist-packages (from requests->gTTS) (3.0.4)\n",
            "Requirement already satisfied: urllib3!=1.25.0,!=1.25.1,<1.26,>=1.21.1 in /usr/local/lib/python3.6/dist-packages (from requests->gTTS) (1.24.3)\n"
          ],
          "name": "stdout"
        }
      ]
    },
    {
      "cell_type": "code",
      "metadata": {
        "id": "ng86brG4ssXW",
        "colab_type": "code",
        "colab": {
          "base_uri": "https://localhost:8080/",
          "height": 34
        },
        "outputId": "9a659f3c-21f7-4e93-807a-d9a53fd295a9"
      },
      "source": [
        "pip install dlib"
      ],
      "execution_count": 2,
      "outputs": [
        {
          "output_type": "stream",
          "text": [
            "Requirement already satisfied: dlib in /usr/local/lib/python3.6/dist-packages (19.18.0)\n"
          ],
          "name": "stdout"
        }
      ]
    },
    {
      "cell_type": "code",
      "metadata": {
        "id": "2VlwmR6WsuyW",
        "colab_type": "code",
        "colab": {
          "base_uri": "https://localhost:8080/",
          "height": 139
        },
        "outputId": "edd47da9-3262-4f06-eebe-5dd7e13e2f90"
      },
      "source": [
        "pip install face_recognition"
      ],
      "execution_count": 3,
      "outputs": [
        {
          "output_type": "stream",
          "text": [
            "Requirement already satisfied: face_recognition in /usr/local/lib/python3.6/dist-packages (1.3.0)\n",
            "Requirement already satisfied: Pillow in /usr/local/lib/python3.6/dist-packages (from face_recognition) (7.0.0)\n",
            "Requirement already satisfied: numpy in /usr/local/lib/python3.6/dist-packages (from face_recognition) (1.18.5)\n",
            "Requirement already satisfied: face-recognition-models>=0.3.0 in /usr/local/lib/python3.6/dist-packages (from face_recognition) (0.3.0)\n",
            "Requirement already satisfied: Click>=6.0 in /usr/local/lib/python3.6/dist-packages (from face_recognition) (7.1.2)\n",
            "Requirement already satisfied: dlib>=19.7 in /usr/local/lib/python3.6/dist-packages (from face_recognition) (19.18.0)\n"
          ],
          "name": "stdout"
        }
      ]
    },
    {
      "cell_type": "code",
      "metadata": {
        "id": "bBaYfLV7qbmp",
        "colab_type": "code",
        "colab": {
          "base_uri": "https://localhost:8080/",
          "height": 411
        },
        "outputId": "5c7ae5b0-6930-41de-fb4e-94431ff81110"
      },
      "source": [
        "pip install tensorflow==1.14.0"
      ],
      "execution_count": 4,
      "outputs": [
        {
          "output_type": "stream",
          "text": [
            "Requirement already satisfied: tensorflow==1.14.0 in /usr/local/lib/python3.6/dist-packages (1.14.0)\n",
            "Requirement already satisfied: tensorboard<1.15.0,>=1.14.0 in /usr/local/lib/python3.6/dist-packages (from tensorflow==1.14.0) (1.14.0)\n",
            "Requirement already satisfied: google-pasta>=0.1.6 in /usr/local/lib/python3.6/dist-packages (from tensorflow==1.14.0) (0.2.0)\n",
            "Requirement already satisfied: wrapt>=1.11.1 in /usr/local/lib/python3.6/dist-packages (from tensorflow==1.14.0) (1.12.1)\n",
            "Requirement already satisfied: numpy<2.0,>=1.14.5 in /usr/local/lib/python3.6/dist-packages (from tensorflow==1.14.0) (1.18.5)\n",
            "Requirement already satisfied: tensorflow-estimator<1.15.0rc0,>=1.14.0rc0 in /usr/local/lib/python3.6/dist-packages (from tensorflow==1.14.0) (1.14.0)\n",
            "Requirement already satisfied: keras-preprocessing>=1.0.5 in /usr/local/lib/python3.6/dist-packages (from tensorflow==1.14.0) (1.1.2)\n",
            "Requirement already satisfied: termcolor>=1.1.0 in /usr/local/lib/python3.6/dist-packages (from tensorflow==1.14.0) (1.1.0)\n",
            "Requirement already satisfied: astor>=0.6.0 in /usr/local/lib/python3.6/dist-packages (from tensorflow==1.14.0) (0.8.1)\n",
            "Requirement already satisfied: grpcio>=1.8.6 in /usr/local/lib/python3.6/dist-packages (from tensorflow==1.14.0) (1.30.0)\n",
            "Requirement already satisfied: six>=1.10.0 in /usr/local/lib/python3.6/dist-packages (from tensorflow==1.14.0) (1.12.0)\n",
            "Requirement already satisfied: gast>=0.2.0 in /usr/local/lib/python3.6/dist-packages (from tensorflow==1.14.0) (0.3.3)\n",
            "Requirement already satisfied: protobuf>=3.6.1 in /usr/local/lib/python3.6/dist-packages (from tensorflow==1.14.0) (3.10.0)\n",
            "Requirement already satisfied: absl-py>=0.7.0 in /usr/local/lib/python3.6/dist-packages (from tensorflow==1.14.0) (0.9.0)\n",
            "Requirement already satisfied: wheel>=0.26 in /usr/local/lib/python3.6/dist-packages (from tensorflow==1.14.0) (0.34.2)\n",
            "Requirement already satisfied: keras-applications>=1.0.6 in /usr/local/lib/python3.6/dist-packages (from tensorflow==1.14.0) (1.0.8)\n",
            "Requirement already satisfied: setuptools>=41.0.0 in /usr/local/lib/python3.6/dist-packages (from tensorboard<1.15.0,>=1.14.0->tensorflow==1.14.0) (47.3.1)\n",
            "Requirement already satisfied: werkzeug>=0.11.15 in /usr/local/lib/python3.6/dist-packages (from tensorboard<1.15.0,>=1.14.0->tensorflow==1.14.0) (1.0.1)\n",
            "Requirement already satisfied: markdown>=2.6.8 in /usr/local/lib/python3.6/dist-packages (from tensorboard<1.15.0,>=1.14.0->tensorflow==1.14.0) (3.2.2)\n",
            "Requirement already satisfied: h5py in /usr/local/lib/python3.6/dist-packages (from keras-applications>=1.0.6->tensorflow==1.14.0) (2.10.0)\n",
            "Requirement already satisfied: importlib-metadata; python_version < \"3.8\" in /usr/local/lib/python3.6/dist-packages (from markdown>=2.6.8->tensorboard<1.15.0,>=1.14.0->tensorflow==1.14.0) (1.6.1)\n",
            "Requirement already satisfied: zipp>=0.5 in /usr/local/lib/python3.6/dist-packages (from importlib-metadata; python_version < \"3.8\"->markdown>=2.6.8->tensorboard<1.15.0,>=1.14.0->tensorflow==1.14.0) (3.1.0)\n"
          ],
          "name": "stdout"
        }
      ]
    },
    {
      "cell_type": "code",
      "metadata": {
        "id": "TyFAITShsxct",
        "colab_type": "code",
        "colab": {
          "base_uri": "https://localhost:8080/",
          "height": 153
        },
        "outputId": "9224b112-7569-4698-bc11-95e2de8d06a7"
      },
      "source": [
        "pip install keras"
      ],
      "execution_count": 5,
      "outputs": [
        {
          "output_type": "stream",
          "text": [
            "Requirement already satisfied: keras in /usr/local/lib/python3.6/dist-packages (2.3.1)\n",
            "Requirement already satisfied: numpy>=1.9.1 in /usr/local/lib/python3.6/dist-packages (from keras) (1.18.5)\n",
            "Requirement already satisfied: keras-preprocessing>=1.0.5 in /usr/local/lib/python3.6/dist-packages (from keras) (1.1.2)\n",
            "Requirement already satisfied: pyyaml in /usr/local/lib/python3.6/dist-packages (from keras) (3.13)\n",
            "Requirement already satisfied: keras-applications>=1.0.6 in /usr/local/lib/python3.6/dist-packages (from keras) (1.0.8)\n",
            "Requirement already satisfied: six>=1.9.0 in /usr/local/lib/python3.6/dist-packages (from keras) (1.12.0)\n",
            "Requirement already satisfied: h5py in /usr/local/lib/python3.6/dist-packages (from keras) (2.10.0)\n",
            "Requirement already satisfied: scipy>=0.14 in /usr/local/lib/python3.6/dist-packages (from keras) (1.4.1)\n"
          ],
          "name": "stdout"
        }
      ]
    },
    {
      "cell_type": "code",
      "metadata": {
        "id": "feSrV-ois1Az",
        "colab_type": "code",
        "colab": {
          "base_uri": "https://localhost:8080/",
          "height": 224
        },
        "outputId": "2ae62dda-62f0-45e6-9118-b4ec57f2dbc8"
      },
      "source": [
        "pip install imageai --upgrade"
      ],
      "execution_count": 6,
      "outputs": [
        {
          "output_type": "stream",
          "text": [
            "Requirement already up-to-date: imageai in /usr/local/lib/python3.6/dist-packages (2.1.5)\n",
            "Requirement already satisfied, skipping upgrade: matplotlib in /usr/local/lib/python3.6/dist-packages (from imageai) (3.2.2)\n",
            "Requirement already satisfied, skipping upgrade: pillow in /usr/local/lib/python3.6/dist-packages (from imageai) (7.0.0)\n",
            "Requirement already satisfied, skipping upgrade: scipy in /usr/local/lib/python3.6/dist-packages (from imageai) (1.4.1)\n",
            "Requirement already satisfied, skipping upgrade: numpy in /usr/local/lib/python3.6/dist-packages (from imageai) (1.18.5)\n",
            "Requirement already satisfied, skipping upgrade: h5py in /usr/local/lib/python3.6/dist-packages (from imageai) (2.10.0)\n",
            "Requirement already satisfied, skipping upgrade: pyparsing!=2.0.4,!=2.1.2,!=2.1.6,>=2.0.1 in /usr/local/lib/python3.6/dist-packages (from matplotlib->imageai) (2.4.7)\n",
            "Requirement already satisfied, skipping upgrade: python-dateutil>=2.1 in /usr/local/lib/python3.6/dist-packages (from matplotlib->imageai) (2.8.1)\n",
            "Requirement already satisfied, skipping upgrade: kiwisolver>=1.0.1 in /usr/local/lib/python3.6/dist-packages (from matplotlib->imageai) (1.2.0)\n",
            "Requirement already satisfied, skipping upgrade: cycler>=0.10 in /usr/local/lib/python3.6/dist-packages (from matplotlib->imageai) (0.10.0)\n",
            "Requirement already satisfied, skipping upgrade: six in /usr/local/lib/python3.6/dist-packages (from h5py->imageai) (1.12.0)\n"
          ],
          "name": "stdout"
        }
      ]
    },
    {
      "cell_type": "code",
      "metadata": {
        "id": "JOWXSzpCqfiI",
        "colab_type": "code",
        "colab": {}
      },
      "source": [
        "import face_recognition\n",
        "data_set = []\n",
        "a=['tapsee','taheer']\n",
        "data_set.append( face_recognition.load_image_file(\"/content/drive/My Drive/Colab_Files/Col_file/tp.jpg\") )\n",
        "data_set.append( face_recognition.load_image_file(\"/content/drive/My Drive/Colab_Files/Col_file/ts.jpg\") )"
      ],
      "execution_count": 7,
      "outputs": []
    },
    {
      "cell_type": "code",
      "metadata": {
        "id": "A_kY-Q1Tk3iQ",
        "colab_type": "code",
        "colab": {}
      },
      "source": [
        "import time\n",
        "from gtts import gTTS \n",
        "import IPython.display\n",
        "import os\n",
        "\n",
        "def Face_Rec_(img1,fl1) :\n",
        "    people = []\n",
        "    for dst in range (0,len(data_set)) :\n",
        "      for jhh in range (0,len(fl1)) :\n",
        "        biden_encoding = face_recognition.face_encodings(data_set[dst])[0]\n",
        "        unknown_encoding = face_recognition.face_encodings(img1)[jhh]\n",
        "        results = face_recognition.compare_faces([biden_encoding], unknown_encoding)\n",
        "        #print(results)\n",
        "        if results == [True] :\n",
        "          print(a[dst])\n",
        "          myobj = gTTS(text=str(a[dst]), lang='hi', slow=False) \n",
        "          aud = '/content/drnm.mp3'\n",
        "          myobj.save(aud) \n",
        "          IPython.display.display(IPython.display.Audio(aud,autoplay=True))\n",
        "          time.sleep(0.5)\n",
        "          os.remove('/content/drnm.mp3')\n",
        "          people.append(a[dst])\n",
        "              #break#\n",
        "\n",
        "        \n"
      ],
      "execution_count": 8,
      "outputs": []
    },
    {
      "cell_type": "code",
      "metadata": {
        "id": "_XwTIZdkMXVc",
        "colab_type": "code",
        "colab": {}
      },
      "source": [
        "#Location_of_test= \"/content/cl-test.jpg\"  \n",
        "#Location_of_Result=  \"/content/imagenew.jpg\" \n",
        "import time\n",
        "from gtts import gTTS \n",
        "import IPython.display\n",
        "\n",
        "def Image_Obj_Reco( Location_of_test , Location_of_Result ) :\n",
        "    from imageai.Detection import ObjectDetection\n",
        "    import os\n",
        "\n",
        "    def CountFrequency(Name_of_Detected): \n",
        "          \n",
        "        # Creating an empty dictionary  \n",
        "        freq = {} \n",
        "        for items in Name_of_Detected: \n",
        "            freq[items] = Name_of_Detected.count(items) \n",
        "          \n",
        "        for key, value in freq.items(): \n",
        "            print (\"% d  % s detected\"%(value,key)) \n",
        "            fin_res_list = str(\"% d  % s detected\"%(value,key))\n",
        "            myobj = gTTS(text=fin_res_list, lang='en', slow=False) \n",
        "            aud = '/content/drt.mp3'\n",
        "            myobj.save(aud) \n",
        "            IPython.display.display(IPython.display.Audio(aud,autoplay=True))\n",
        "            time.sleep(3)\n",
        "            os.remove('/content/drt.mp3')\n",
        "\n",
        "    #print(os.getcwd())\n",
        "    execution_path = os.getcwd()\n",
        "    detector = ObjectDetection()\n",
        "    detector.setModelTypeAsRetinaNet()\n",
        "    detector.setModelPath( os.path.join(execution_path ,\"/content/drive/My Drive/Colab Notebooks/resnet50_coco_best_v2.0.1.h5\"))\n",
        "    detector.loadModel()\n",
        "    detections = detector.detectObjectsFromImage(input_image=os.path.join(execution_path , Location_of_test), output_image_path=os.path.join(execution_path , Location_of_Result))\n",
        "\n",
        "    Name_of_Detected = []\n",
        "    for eachObject in detections:\n",
        "        print(eachObject[\"name\"] , \" : \" , eachObject[\"percentage_probability\"] )\n",
        "        Name_of_Detected.append(eachObject[\"name\"])\n",
        "\n",
        "\n",
        "    CountFrequency(Name_of_Detected)\n",
        "\n",
        "#print(\"Testing 1 2 3 4\")\n",
        "#print(\"\\n\")\n",
        "#start_time = time.time()\n",
        "\n",
        "#Image_Obj_Reco(Location_of_test , Location_of_Result) \n",
        "\n",
        "#print(\"--- %s seconds ---\" % (time.time() - start_time))\n"
      ],
      "execution_count": 9,
      "outputs": []
    },
    {
      "cell_type": "code",
      "metadata": {
        "id": "Kac1UVe2xz1F",
        "colab_type": "code",
        "colab": {
          "base_uri": "https://localhost:8080/",
          "height": 1000
        },
        "outputId": "85d03cb6-633f-41f2-abfb-4468fcb5a6a8"
      },
      "source": [
        "import cv2\n",
        "from PIL import Image, ImageChops\n",
        "import time\n",
        "import os\n",
        "import numpy as np\n",
        "import math \n",
        "from gtts import gTTS \n",
        "import IPython.display\n",
        "\n",
        "start_time = time.time()\n",
        "\n",
        "cam = cv2.VideoCapture(\"/content/drive/My Drive/Colab_Files/Col_file/Rozana.webm\")\n",
        "fps = math.ceil(cam.get(cv2.CAP_PROP_FPS))\n",
        "print(fps)\n",
        "\n",
        "ty=0  \n",
        "currentframe = 0\n",
        "\n",
        "try: \n",
        "      \n",
        "    # creating a folder named data \n",
        "    if not os.path.exists('motion_test'): \n",
        "        os.makedirs('motion_test') \n",
        "  \n",
        "    # if not created then raise error \n",
        "except OSError: \n",
        "    print ('Error: Creating directory of motion_test')\n",
        "try: \n",
        "      \n",
        "    # creating a folder named data \n",
        "    if not os.path.exists('res_'): \n",
        "        os.makedirs('res_') \n",
        "  \n",
        "    # if not created then raise error \n",
        "except OSError: \n",
        "    print ('Error: Creating directory of res_') \n",
        "  \n",
        "\n",
        "while(True) :   #math.ceil((time.time()-start_time)%60)==1 or math.ceil((time.time()-start_time)%60)==2 ): \n",
        "      \n",
        "    # reading from frame \n",
        "    ret,frame = cam.read() \n",
        "   \n",
        "    if ret: \n",
        "      if currentframe% (45*fps) == 0 :\n",
        "          # if video is still left continue creating images \n",
        "        name = '/content/motion_test/frame' + str(currentframe)  + '.jpg'\n",
        "        print ('Creating...' + name) \n",
        "      \n",
        "            # writing the extracted images \n",
        "        cv2.imwrite(name, frame) \n",
        "\n",
        "      elif currentframe% (45*fps) == 1 :\n",
        "        name = '/content/motion_test/frame' + str(currentframe)  + '.jpg'\n",
        "        print ('Creating...' + name) \n",
        "      \n",
        "            # writing the extracted images \n",
        "        cv2.imwrite(name, frame) \n",
        "        j=currentframe\n",
        "      #k=int(j+math.ceil(fps/2))\n",
        "        ad1= '/content/motion_test/frame' + str(j) + '.jpg'\n",
        "        ad2= '/content/motion_test/frame' + str(j-1) + '.jpg'\n",
        "        img1= Image.open(ad1)\n",
        "        img2= Image.open(ad2)\n",
        "        \n",
        "        #d = ImageChops.difference(img1 , img2)\n",
        "        #print(\"\\n\")\n",
        "        #jh = '/content/res_/g' + str(ty) +'.jpg'\n",
        "        #d.save(jh)\n",
        "        #im_ = Image.open(jh).convert('L')\n",
        "        #w,h = im_.size\n",
        "        #print(im_.size)\n",
        "\n",
        "        #im_ = Image.open(ad1)\n",
        "        Location_of_test=\"/content/motion_test/frame\" + str(j) + \".jpg\"\n",
        "        Location_of_Result=\"/content/res_/\" + str(j) + \".jpg\"\n",
        "        Image_Obj_Reco(Location_of_test , Location_of_Result) \n",
        "        #img = cv2.imread(ad1)\n",
        "        print(\"--- %s seconds ---\" % (time.time() - start_time))\n",
        "        img1 = face_recognition.load_image_file(ad1)\n",
        "        fl1 = face_recognition.face_locations(img1)\n",
        "        #fl2 = face_recognition.face_locations(img2)\n",
        "       \n",
        "        Face_Rec_(img1,fl1)\n",
        "        \n",
        "        #ty+=1\n",
        "        os.remove(ad1)   \n",
        "        os.remove(ad2)\n",
        "      currentframe += 1\n",
        "  \n",
        "        # increasing counter so that it will \n",
        "        # show how many frames are created \n",
        "    else: \n",
        "        break\n",
        "    \n",
        "    #Audio(filename='hier.mp3',autoplay=True)\n",
        "#cam.release() \n",
        "#cv2.destroyAllWindows()\n",
        "print(\"\\n\")    \n",
        "print('motion')\n",
        "\n",
        "    \n",
        "print('ENDED')\n",
        "\n",
        "print(\"--- %s seconds ---\" % (time.time() - start_time))\n",
        "    "
      ],
      "execution_count": 10,
      "outputs": [
        {
          "output_type": "stream",
          "text": [
            "24\n",
            "Creating.../content/motion_test/frame0.jpg\n",
            "Creating.../content/motion_test/frame1.jpg\n"
          ],
          "name": "stdout"
        },
        {
          "output_type": "stream",
          "text": [
            "Using TensorFlow backend.\n",
            "/usr/local/lib/python3.6/dist-packages/tensorflow/python/framework/dtypes.py:516: FutureWarning: Passing (type, 1) or '1type' as a synonym of type is deprecated; in a future version of numpy, it will be understood as (type, (1,)) / '(1,)type'.\n",
            "  _np_qint8 = np.dtype([(\"qint8\", np.int8, 1)])\n",
            "/usr/local/lib/python3.6/dist-packages/tensorflow/python/framework/dtypes.py:517: FutureWarning: Passing (type, 1) or '1type' as a synonym of type is deprecated; in a future version of numpy, it will be understood as (type, (1,)) / '(1,)type'.\n",
            "  _np_quint8 = np.dtype([(\"quint8\", np.uint8, 1)])\n",
            "/usr/local/lib/python3.6/dist-packages/tensorflow/python/framework/dtypes.py:518: FutureWarning: Passing (type, 1) or '1type' as a synonym of type is deprecated; in a future version of numpy, it will be understood as (type, (1,)) / '(1,)type'.\n",
            "  _np_qint16 = np.dtype([(\"qint16\", np.int16, 1)])\n",
            "/usr/local/lib/python3.6/dist-packages/tensorflow/python/framework/dtypes.py:519: FutureWarning: Passing (type, 1) or '1type' as a synonym of type is deprecated; in a future version of numpy, it will be understood as (type, (1,)) / '(1,)type'.\n",
            "  _np_quint16 = np.dtype([(\"quint16\", np.uint16, 1)])\n",
            "/usr/local/lib/python3.6/dist-packages/tensorflow/python/framework/dtypes.py:520: FutureWarning: Passing (type, 1) or '1type' as a synonym of type is deprecated; in a future version of numpy, it will be understood as (type, (1,)) / '(1,)type'.\n",
            "  _np_qint32 = np.dtype([(\"qint32\", np.int32, 1)])\n",
            "/usr/local/lib/python3.6/dist-packages/tensorflow/python/framework/dtypes.py:525: FutureWarning: Passing (type, 1) or '1type' as a synonym of type is deprecated; in a future version of numpy, it will be understood as (type, (1,)) / '(1,)type'.\n",
            "  np_resource = np.dtype([(\"resource\", np.ubyte, 1)])\n",
            "/usr/local/lib/python3.6/dist-packages/tensorboard/compat/tensorflow_stub/dtypes.py:541: FutureWarning: Passing (type, 1) or '1type' as a synonym of type is deprecated; in a future version of numpy, it will be understood as (type, (1,)) / '(1,)type'.\n",
            "  _np_qint8 = np.dtype([(\"qint8\", np.int8, 1)])\n",
            "/usr/local/lib/python3.6/dist-packages/tensorboard/compat/tensorflow_stub/dtypes.py:542: FutureWarning: Passing (type, 1) or '1type' as a synonym of type is deprecated; in a future version of numpy, it will be understood as (type, (1,)) / '(1,)type'.\n",
            "  _np_quint8 = np.dtype([(\"quint8\", np.uint8, 1)])\n",
            "/usr/local/lib/python3.6/dist-packages/tensorboard/compat/tensorflow_stub/dtypes.py:543: FutureWarning: Passing (type, 1) or '1type' as a synonym of type is deprecated; in a future version of numpy, it will be understood as (type, (1,)) / '(1,)type'.\n",
            "  _np_qint16 = np.dtype([(\"qint16\", np.int16, 1)])\n",
            "/usr/local/lib/python3.6/dist-packages/tensorboard/compat/tensorflow_stub/dtypes.py:544: FutureWarning: Passing (type, 1) or '1type' as a synonym of type is deprecated; in a future version of numpy, it will be understood as (type, (1,)) / '(1,)type'.\n",
            "  _np_quint16 = np.dtype([(\"quint16\", np.uint16, 1)])\n",
            "/usr/local/lib/python3.6/dist-packages/tensorboard/compat/tensorflow_stub/dtypes.py:545: FutureWarning: Passing (type, 1) or '1type' as a synonym of type is deprecated; in a future version of numpy, it will be understood as (type, (1,)) / '(1,)type'.\n",
            "  _np_qint32 = np.dtype([(\"qint32\", np.int32, 1)])\n",
            "/usr/local/lib/python3.6/dist-packages/tensorboard/compat/tensorflow_stub/dtypes.py:550: FutureWarning: Passing (type, 1) or '1type' as a synonym of type is deprecated; in a future version of numpy, it will be understood as (type, (1,)) / '(1,)type'.\n",
            "  np_resource = np.dtype([(\"resource\", np.ubyte, 1)])\n"
          ],
          "name": "stderr"
        },
        {
          "output_type": "stream",
          "text": [
            "WARNING:tensorflow:From /usr/local/lib/python3.6/dist-packages/keras/backend/tensorflow_backend.py:4070: The name tf.nn.max_pool is deprecated. Please use tf.nn.max_pool2d instead.\n",
            "\n",
            "WARNING:tensorflow:From /usr/local/lib/python3.6/dist-packages/imageai/Detection/keras_retinanet/backend/tensorflow_backend.py:22: The name tf.image.resize_images is deprecated. Please use tf.image.resize instead.\n",
            "\n",
            "tracking <tf.Variable 'Variable:0' shape=(9, 4) dtype=float32> anchors\n",
            "tracking <tf.Variable 'Variable_1:0' shape=(9, 4) dtype=float32> anchors\n",
            "tracking <tf.Variable 'Variable_2:0' shape=(9, 4) dtype=float32> anchors\n",
            "tracking <tf.Variable 'Variable_3:0' shape=(9, 4) dtype=float32> anchors\n",
            "tracking <tf.Variable 'Variable_4:0' shape=(9, 4) dtype=float32> anchors\n",
            "WARNING:tensorflow:From /usr/local/lib/python3.6/dist-packages/imageai/Detection/keras_retinanet/backend/tensorflow_backend.py:46: add_dispatch_support.<locals>.wrapper (from tensorflow.python.ops.array_ops) is deprecated and will be removed in a future version.\n",
            "Instructions for updating:\n",
            "Use tf.where in 2.0, which has the same broadcast rule as np.where\n",
            "WARNING:tensorflow:From /usr/local/lib/python3.6/dist-packages/keras/backend/tensorflow_backend.py:422: The name tf.global_variables is deprecated. Please use tf.compat.v1.global_variables instead.\n",
            "\n",
            "--- 19.748387813568115 seconds ---\n",
            "Creating.../content/motion_test/frame1080.jpg\n",
            "Creating.../content/motion_test/frame1081.jpg\n",
            "tracking <tf.Variable 'Variable_5:0' shape=(9, 4) dtype=float32> anchors\n",
            "tracking <tf.Variable 'Variable_6:0' shape=(9, 4) dtype=float32> anchors\n",
            "tracking <tf.Variable 'Variable_7:0' shape=(9, 4) dtype=float32> anchors\n",
            "tracking <tf.Variable 'Variable_8:0' shape=(9, 4) dtype=float32> anchors\n",
            "tracking <tf.Variable 'Variable_9:0' shape=(9, 4) dtype=float32> anchors\n",
            "person  :  99.20798540115356\n",
            " 1  person detected\n"
          ],
          "name": "stdout"
        },
        {
          "output_type": "display_data",
          "data": {
            "text/html": [
              "\n",
              "                <audio controls=\"controls\" autoplay=\"autoplay\">\n",
              "                    <source src=\"data:audio/mpeg;base64,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\" type=\"audio/mpeg\" />\n",
              "                    Your browser does not support the audio element.\n",
              "                </audio>\n",
              "              "
            ],
            "text/plain": [
              "<IPython.lib.display.Audio object>"
            ]
          },
          "metadata": {
            "tags": []
          }
        },
        {
          "output_type": "stream",
          "text": [
            "--- 46.42620849609375 seconds ---\n",
            "tapsee\n"
          ],
          "name": "stdout"
        },
        {
          "output_type": "display_data",
          "data": {
            "text/html": [
              "\n",
              "                <audio controls=\"controls\" autoplay=\"autoplay\">\n",
              "                    <source src=\"data:audio/mpeg;base64,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\" type=\"audio/mpeg\" />\n",
              "                    Your browser does not support the audio element.\n",
              "                </audio>\n",
              "              "
            ],
            "text/plain": [
              "<IPython.lib.display.Audio object>"
            ]
          },
          "metadata": {
            "tags": []
          }
        },
        {
          "output_type": "stream",
          "text": [
            "Creating.../content/motion_test/frame2160.jpg\n",
            "Creating.../content/motion_test/frame2161.jpg\n",
            "tracking <tf.Variable 'Variable_10:0' shape=(9, 4) dtype=float32> anchors\n",
            "tracking <tf.Variable 'Variable_11:0' shape=(9, 4) dtype=float32> anchors\n",
            "tracking <tf.Variable 'Variable_12:0' shape=(9, 4) dtype=float32> anchors\n",
            "tracking <tf.Variable 'Variable_13:0' shape=(9, 4) dtype=float32> anchors\n",
            "tracking <tf.Variable 'Variable_14:0' shape=(9, 4) dtype=float32> anchors\n",
            "person  :  72.56197929382324\n",
            "person  :  83.53636264801025\n",
            "person  :  93.14769506454468\n",
            "person  :  98.83480072021484\n",
            " 4  person detected\n"
          ],
          "name": "stdout"
        },
        {
          "output_type": "display_data",
          "data": {
            "text/html": [
              "\n",
              "                <audio controls=\"controls\" autoplay=\"autoplay\">\n",
              "                    <source src=\"data:audio/mpeg;base64,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\" type=\"audio/mpeg\" />\n",
              "                    Your browser does not support the audio element.\n",
              "                </audio>\n",
              "              "
            ],
            "text/plain": [
              "<IPython.lib.display.Audio object>"
            ]
          },
          "metadata": {
            "tags": []
          }
        },
        {
          "output_type": "stream",
          "text": [
            "--- 81.97564101219177 seconds ---\n",
            "Creating.../content/motion_test/frame3240.jpg\n",
            "Creating.../content/motion_test/frame3241.jpg\n",
            "tracking <tf.Variable 'Variable_15:0' shape=(9, 4) dtype=float32> anchors\n",
            "tracking <tf.Variable 'Variable_16:0' shape=(9, 4) dtype=float32> anchors\n",
            "tracking <tf.Variable 'Variable_17:0' shape=(9, 4) dtype=float32> anchors\n",
            "tracking <tf.Variable 'Variable_18:0' shape=(9, 4) dtype=float32> anchors\n",
            "tracking <tf.Variable 'Variable_19:0' shape=(9, 4) dtype=float32> anchors\n",
            "person  :  97.88243770599365\n",
            "person  :  86.40978336334229\n",
            " 2  person detected\n"
          ],
          "name": "stdout"
        },
        {
          "output_type": "display_data",
          "data": {
            "text/html": [
              "\n",
              "                <audio controls=\"controls\" autoplay=\"autoplay\">\n",
              "                    <source src=\"data:audio/mpeg;base64,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\" type=\"audio/mpeg\" />\n",
              "                    Your browser does not support the audio element.\n",
              "                </audio>\n",
              "              "
            ],
            "text/plain": [
              "<IPython.lib.display.Audio object>"
            ]
          },
          "metadata": {
            "tags": []
          }
        },
        {
          "output_type": "stream",
          "text": [
            "--- 110.96554183959961 seconds ---\n",
            "tapsee\n"
          ],
          "name": "stdout"
        },
        {
          "output_type": "display_data",
          "data": {
            "text/html": [
              "\n",
              "                <audio controls=\"controls\" autoplay=\"autoplay\">\n",
              "                    <source src=\"data:audio/mpeg;base64,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\" type=\"audio/mpeg\" />\n",
              "                    Your browser does not support the audio element.\n",
              "                </audio>\n",
              "              "
            ],
            "text/plain": [
              "<IPython.lib.display.Audio object>"
            ]
          },
          "metadata": {
            "tags": []
          }
        },
        {
          "output_type": "stream",
          "text": [
            "taheer\n"
          ],
          "name": "stdout"
        },
        {
          "output_type": "display_data",
          "data": {
            "text/html": [
              "\n",
              "                <audio controls=\"controls\" autoplay=\"autoplay\">\n",
              "                    <source src=\"data:audio/mpeg;base64,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\" type=\"audio/mpeg\" />\n",
              "                    Your browser does not support the audio element.\n",
              "                </audio>\n",
              "              "
            ],
            "text/plain": [
              "<IPython.lib.display.Audio object>"
            ]
          },
          "metadata": {
            "tags": []
          }
        },
        {
          "output_type": "stream",
          "text": [
            "Creating.../content/motion_test/frame4320.jpg\n",
            "Creating.../content/motion_test/frame4321.jpg\n",
            "tracking <tf.Variable 'Variable_20:0' shape=(9, 4) dtype=float32> anchors\n",
            "tracking <tf.Variable 'Variable_21:0' shape=(9, 4) dtype=float32> anchors\n",
            "tracking <tf.Variable 'Variable_22:0' shape=(9, 4) dtype=float32> anchors\n",
            "tracking <tf.Variable 'Variable_23:0' shape=(9, 4) dtype=float32> anchors\n",
            "tracking <tf.Variable 'Variable_24:0' shape=(9, 4) dtype=float32> anchors\n",
            "person  :  95.76442241668701\n",
            "person  :  85.68679094314575\n",
            " 2  person detected\n"
          ],
          "name": "stdout"
        },
        {
          "output_type": "display_data",
          "data": {
            "text/html": [
              "\n",
              "                <audio controls=\"controls\" autoplay=\"autoplay\">\n",
              "                    <source src=\"data:audio/mpeg;base64,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\" type=\"audio/mpeg\" />\n",
              "                    Your browser does not support the audio element.\n",
              "                </audio>\n",
              "              "
            ],
            "text/plain": [
              "<IPython.lib.display.Audio object>"
            ]
          },
          "metadata": {
            "tags": []
          }
        },
        {
          "output_type": "stream",
          "text": [
            "--- 145.9723765850067 seconds ---\n",
            "tapsee\n"
          ],
          "name": "stdout"
        },
        {
          "output_type": "display_data",
          "data": {
            "text/html": [
              "\n",
              "                <audio controls=\"controls\" autoplay=\"autoplay\">\n",
              "                    <source src=\"data:audio/mpeg;base64,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\" type=\"audio/mpeg\" />\n",
              "                    Your browser does not support the audio element.\n",
              "                </audio>\n",
              "              "
            ],
            "text/plain": [
              "<IPython.lib.display.Audio object>"
            ]
          },
          "metadata": {
            "tags": []
          }
        },
        {
          "output_type": "stream",
          "text": [
            "Creating.../content/motion_test/frame5400.jpg\n",
            "Creating.../content/motion_test/frame5401.jpg\n",
            "tracking <tf.Variable 'Variable_25:0' shape=(9, 4) dtype=float32> anchors\n",
            "tracking <tf.Variable 'Variable_26:0' shape=(9, 4) dtype=float32> anchors\n",
            "tracking <tf.Variable 'Variable_27:0' shape=(9, 4) dtype=float32> anchors\n",
            "tracking <tf.Variable 'Variable_28:0' shape=(9, 4) dtype=float32> anchors\n",
            "tracking <tf.Variable 'Variable_29:0' shape=(9, 4) dtype=float32> anchors\n",
            "airplane  :  61.92196607589722\n",
            "person  :  73.97822141647339\n",
            "person  :  80.42389154434204\n",
            " 1  airplane detected\n"
          ],
          "name": "stdout"
        },
        {
          "output_type": "display_data",
          "data": {
            "text/html": [
              "\n",
              "                <audio controls=\"controls\" autoplay=\"autoplay\">\n",
              "                    <source src=\"data:audio/mpeg;base64,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\" type=\"audio/mpeg\" />\n",
              "                    Your browser does not support the audio element.\n",
              "                </audio>\n",
              "              "
            ],
            "text/plain": [
              "<IPython.lib.display.Audio object>"
            ]
          },
          "metadata": {
            "tags": []
          }
        },
        {
          "output_type": "stream",
          "text": [
            " 2  person detected\n"
          ],
          "name": "stdout"
        },
        {
          "output_type": "display_data",
          "data": {
            "text/html": [
              "\n",
              "                <audio controls=\"controls\" autoplay=\"autoplay\">\n",
              "                    <source src=\"data:audio/mpeg;base64,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\" type=\"audio/mpeg\" />\n",
              "                    Your browser does not support the audio element.\n",
              "                </audio>\n",
              "              "
            ],
            "text/plain": [
              "<IPython.lib.display.Audio object>"
            ]
          },
          "metadata": {
            "tags": []
          }
        },
        {
          "output_type": "stream",
          "text": [
            "--- 183.47609066963196 seconds ---\n",
            "\n",
            "\n",
            "motion\n",
            "ENDED\n",
            "--- 188.15258479118347 seconds ---\n"
          ],
          "name": "stdout"
        }
      ]
    }
  ]
}