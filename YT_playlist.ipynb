{
  "nbformat": 4,
  "nbformat_minor": 0,
  "metadata": {
    "colab": {
      "name": "YT_playlist.ipynb",
      "provenance": [],
      "collapsed_sections": [],
      "authorship_tag": "ABX9TyN3zg2utx9EgG7U1qFgVjGS",
      "include_colab_link": true
    },
    "kernelspec": {
      "name": "python3",
      "display_name": "Python 3"
    },
    "language_info": {
      "name": "python"
    }
  },
  "cells": [
    {
      "cell_type": "markdown",
      "metadata": {
        "id": "view-in-github",
        "colab_type": "text"
      },
      "source": [
        "<a href=\"https://colab.research.google.com/github/sarthak-prasad/AudVis_Face_n_Obj/blob/master/YT_playlist.ipynb\" target=\"_parent\"><img src=\"https://colab.research.google.com/assets/colab-badge.svg\" alt=\"Open In Colab\"/></a>"
      ]
    },
    {
      "cell_type": "code",
      "metadata": {
        "colab": {
          "base_uri": "https://localhost:8080/"
        },
        "id": "wvF3SMBJr6ch",
        "outputId": "c106b25b-ba93-456b-b3d5-45d33eb7bc45"
      },
      "source": [
        "pip install pytube"
      ],
      "execution_count": 1,
      "outputs": [
        {
          "output_type": "stream",
          "text": [
            "Collecting pytube\n",
            "\u001b[?25l  Downloading https://files.pythonhosted.org/packages/53/6d/39117bd1668bcd44c10c021624def85268d3dfd811b17cad6c59f5c2533a/pytube-10.9.0-py3-none-any.whl (51kB)\n",
            "\r\u001b[K     |██████▎                         | 10kB 11.4MB/s eta 0:00:01\r\u001b[K     |████████████▋                   | 20kB 16.0MB/s eta 0:00:01\r\u001b[K     |███████████████████             | 30kB 19.9MB/s eta 0:00:01\r\u001b[K     |█████████████████████████▎      | 40kB 13.2MB/s eta 0:00:01\r\u001b[K     |███████████████████████████████▌| 51kB 7.7MB/s eta 0:00:01\r\u001b[K     |████████████████████████████████| 61kB 3.9MB/s \n",
            "\u001b[?25hInstalling collected packages: pytube\n",
            "Successfully installed pytube-10.9.0\n"
          ],
          "name": "stdout"
        }
      ]
    },
    {
      "cell_type": "code",
      "metadata": {
        "colab": {
          "base_uri": "https://localhost:8080/"
        },
        "id": "uBtQmIim3Yp5",
        "outputId": "ebf3191a-47ab-4680-9024-1ad483eb9b3e"
      },
      "source": [
        "pip install moviepy"
      ],
      "execution_count": 2,
      "outputs": [
        {
          "output_type": "stream",
          "text": [
            "Requirement already satisfied: moviepy in /usr/local/lib/python3.7/dist-packages (0.2.3.5)\n",
            "Requirement already satisfied: imageio<3.0,>=2.1.2 in /usr/local/lib/python3.7/dist-packages (from moviepy) (2.4.1)\n",
            "Requirement already satisfied: numpy in /usr/local/lib/python3.7/dist-packages (from moviepy) (1.19.5)\n",
            "Requirement already satisfied: decorator<5.0,>=4.0.2 in /usr/local/lib/python3.7/dist-packages (from moviepy) (4.4.2)\n",
            "Requirement already satisfied: tqdm<5.0,>=4.11.2 in /usr/local/lib/python3.7/dist-packages (from moviepy) (4.41.1)\n",
            "Requirement already satisfied: pillow in /usr/local/lib/python3.7/dist-packages (from imageio<3.0,>=2.1.2->moviepy) (7.1.2)\n"
          ],
          "name": "stdout"
        }
      ]
    },
    {
      "cell_type": "code",
      "metadata": {
        "id": "IWYSABdYCQu9",
        "colab": {
          "base_uri": "https://localhost:8080/"
        },
        "outputId": "1e6216a4-9384-47d9-c495-ecb1bd402b69"
      },
      "source": [
        "import os\n",
        "import moviepy.editor as mp\n",
        "from pytube import YouTube\n",
        "import string\n",
        "from google.colab import files\n",
        "import shutil"
      ],
      "execution_count": 3,
      "outputs": [
        {
          "output_type": "stream",
          "text": [
            "Imageio: 'ffmpeg-linux64-v3.3.1' was not found on your computer; downloading it now.\n",
            "Try 1. Download from https://github.com/imageio/imageio-binaries/raw/master/ffmpeg/ffmpeg-linux64-v3.3.1 (43.8 MB)\n",
            "Downloading: 8192/45929032 bytes (0.0%)\b\b\b\b\b\b\b\b\b\b\b\b\b\b\b\b\b\b\b\b\b\b\b\b\b\b2392064/45929032 bytes (5.2%)\b\b\b\b\b\b\b\b\b\b\b\b\b\b\b\b\b\b\b\b\b\b\b\b\b\b\b\b\b5283840/45929032 bytes (11.5%)\b\b\b\b\b\b\b\b\b\b\b\b\b\b\b\b\b\b\b\b\b\b\b\b\b\b\b\b\b\b8093696/45929032 bytes (17.6%)\b\b\b\b\b\b\b\b\b\b\b\b\b\b\b\b\b\b\b\b\b\b\b\b\b\b\b\b\b\b11001856/45929032 bytes (24.0%)\b\b\b\b\b\b\b\b\b\b\b\b\b\b\b\b\b\b\b\b\b\b\b\b\b\b\b\b\b\b\b13737984/45929032 bytes (29.9%)\b\b\b\b\b\b\b\b\b\b\b\b\b\b\b\b\b\b\b\b\b\b\b\b\b\b\b\b\b\b\b16580608/45929032 bytes (36.1%)\b\b\b\b\b\b\b\b\b\b\b\b\b\b\b\b\b\b\b\b\b\b\b\b\b\b\b\b\b\b\b19562496/45929032 bytes (42.6%)\b\b\b\b\b\b\b\b\b\b\b\b\b\b\b\b\b\b\b\b\b\b\b\b\b\b\b\b\b\b\b22462464/45929032 bytes (48.9%)\b\b\b\b\b\b\b\b\b\b\b\b\b\b\b\b\b\b\b\b\b\b\b\b\b\b\b\b\b\b\b25346048/45929032 bytes (55.2%)\b\b\b\b\b\b\b\b\b\b\b\b\b\b\b\b\b\b\b\b\b\b\b\b\b\b\b\b\b\b\b28295168/45929032 bytes (61.6%)\b\b\b\b\b\b\b\b\b\b\b\b\b\b\b\b\b\b\b\b\b\b\b\b\b\b\b\b\b\b\b31170560/45929032 bytes (67.9%)\b\b\b\b\b\b\b\b\b\b\b\b\b\b\b\b\b\b\b\b\b\b\b\b\b\b\b\b\b\b\b34029568/45929032 bytes (74.1%)\b\b\b\b\b\b\b\b\b\b\b\b\b\b\b\b\b\b\b\b\b\b\b\b\b\b\b\b\b\b\b36626432/45929032 bytes (79.7%)\b\b\b\b\b\b\b\b\b\b\b\b\b\b\b\b\b\b\b\b\b\b\b\b\b\b\b\b\b\b\b39378944/45929032 bytes (85.7%)\b\b\b\b\b\b\b\b\b\b\b\b\b\b\b\b\b\b\b\b\b\b\b\b\b\b\b\b\b\b\b42180608/45929032 bytes (91.8%)\b\b\b\b\b\b\b\b\b\b\b\b\b\b\b\b\b\b\b\b\b\b\b\b\b\b\b\b\b\b\b45105152/45929032 bytes (98.2%)\b\b\b\b\b\b\b\b\b\b\b\b\b\b\b\b\b\b\b\b\b\b\b\b\b\b\b\b\b\b\b45929032/45929032 bytes (100.0%)\n",
            "  Done\n",
            "File saved as /root/.imageio/ffmpeg/ffmpeg-linux64-v3.3.1.\n"
          ],
          "name": "stdout"
        }
      ]
    },
    {
      "cell_type": "code",
      "metadata": {
        "id": "6bHgBdPC7N8u"
      },
      "source": [
        "import pandas as pd\n",
        "from google.colab import auth\n",
        "auth.authenticate_user()\n",
        "import gspread\n",
        "from oauth2client.client import GoogleCredentials\n",
        "\n",
        "# setup\n",
        "gc = gspread.authorize(GoogleCredentials.get_application_default())\n",
        "\n",
        "# read data and put it in a dataframe\n",
        "gsheets = gc.open_by_url('https://docs.google.com/spreadsheets/d/10XMuQ6yJPKNKFT21TeaZBqMk5N8lBb8sXcpzhctrG4M/edit?usp=sharing')\n",
        "sheets = gsheets.worksheet('Form Responses 1').get_all_values()\n",
        "df = pd.DataFrame(sheets[1:], columns=sheets[0])\n",
        "df.drop_duplicates(subset=\"YouTube Link\",keep=\"first\",inplace=True)"
      ],
      "execution_count": 4,
      "outputs": []
    },
    {
      "cell_type": "code",
      "metadata": {
        "id": "zYrjyvkPBCZU"
      },
      "source": [
        "def createFolder(directory):\n",
        "  try:\n",
        "    if not os.path.exists(directory):\n",
        "      os.makedirs(directory)\n",
        "  except OSError:\n",
        "    print ('Error: Creating directory. ' +  directory)"
      ],
      "execution_count": 5,
      "outputs": []
    },
    {
      "cell_type": "code",
      "metadata": {
        "id": "WKmKdF5yCYOb"
      },
      "source": [
        "createFolder(\"/content/Songs\")"
      ],
      "execution_count": 6,
      "outputs": []
    },
    {
      "cell_type": "code",
      "metadata": {
        "id": "NE4YgOJxdsjD"
      },
      "source": [
        "def flname(a):\n",
        "  b=\"p\"\n",
        "  for i in range(len(a)):\n",
        "    if (a[i] not in [\"|\",\",\",'''\"''',\".\",\":\"]): # Can't allow these characters in filename\n",
        "      b+=str(a[i])\n",
        "  return b[1:]"
      ],
      "execution_count": 7,
      "outputs": []
    },
    {
      "cell_type": "code",
      "metadata": {
        "id": "BETtgTj5rcV2"
      },
      "source": [
        "def vid_download(link) :\n",
        "  yt = YouTube(link)\n",
        "\n",
        "  title_name =yt.title\n",
        "  # YT Video details\n",
        "  print(\"Title: \",yt.title)\n",
        "  print(\"Number of views: \",yt.views)\n",
        "  print(\"Length of video: \",yt.length)\n",
        "  print(\"Rating of video: \",yt.rating)\n",
        "  # Getting the highest resolution possible\n",
        "  ys = yt.streams.get_highest_resolution()\n",
        "\n",
        "  print(\"Downloading...\")\n",
        "  ys.download(\"/content/Songs\") # Downloading MP4 file of video\n",
        "  print(\"Download completed!!\")\n",
        "  v_loc=\"/content/Songs/\"+flname(title_name)+\".mp4\"\n",
        "\n",
        "  return [title_name,v_loc]"
      ],
      "execution_count": 8,
      "outputs": []
    },
    {
      "cell_type": "code",
      "metadata": {
        "id": "Lf4QsRyMrkrE"
      },
      "source": [
        "singer_key = [ (\"KK\",\"a\"), (\"Shreya Ghoshal\",\"b\"), (\"Arijit Singh\",\"c\"), (\"Sonu Nigam\",'d'), (\"Sunidhi Chauhan\",\"e\"), (\"Atif Aslam\",\"f\"), (\"Nusrat Fateh Ali Khan\",\"g\"), (\"Mohit Suri\",\"h\"), (\"Neeraj Shridhar\",\"i\"), (\"Kumar Sanu\",\"j\"), (\"Alka Yagnik\",\"k\"), (\"Others\",\"l\") ]\n",
        "category_key =[ (\"Sad\",\"a\"), (\"Romantic\",\"b\"), (\"Party\",\"c\"), (\"Qawalli\",\"d\"), (\"Calm\",\"e\"), (\"Others\",\"f\") ]\n",
        "\n",
        "# Extracting Audio from Video \n",
        "\n",
        "def vidtoaud(title_name,v_loc,category,singer):\n",
        "  a_loc=\"/content/Songs/\"+flname(title_name)+ \".mp3\"\n",
        "  my_clip = mp.VideoFileClip(v_loc)\n",
        "  print(my_clip)\n",
        "  my_clip.audio.write_audiofile(a_loc)\n",
        "  os.remove(v_loc)"
      ],
      "execution_count": 9,
      "outputs": []
    },
    {
      "cell_type": "code",
      "metadata": {
        "colab": {
          "base_uri": "https://localhost:8080/"
        },
        "id": "rITxbH9YkJXZ",
        "outputId": "93eb3c96-7504-4805-f901-9a4c157a58b1"
      },
      "source": [
        "# User Input\n",
        "\n",
        "choice = int (input(\"Press 0 to choose by category , 1 to choose by singer and 2 to get Lord Emraan's playlist \"))\n",
        "print(\"\\n\")\n",
        "\n",
        "if (choice==1) :\n",
        "  for x,y in singer_key:\n",
        "    print(y + \" : \" + x + \"\\n\")\n",
        "elif (choice==0) :\n",
        "  for x,y in category_key:\n",
        "    print(y + \" : \" + x + \"\\n\")\n",
        "\n",
        "if (choice==0 or choice==1) :\n",
        "  ref = str (input(\"Write reference ID \"))\n",
        "  print(\"\\n\")\n",
        "  ref_id = string.ascii_lowercase.index(ref)\n",
        "\n",
        "if (choice==1) :\n",
        "  v = singer_key[ref_id][0]\n",
        "  print(\"Songs by \"+v+\" on their way !\")\n",
        "elif (choice==0):\n",
        "  v = category_key[ref_id][0]\n",
        "  print(v+\" songs on their way !\")\n",
        "elif (choice ==2) :\n",
        "  v = \"Lord Emraan\"\n",
        "  print(\"Lord Emraan's playlist on its way !\")\n",
        "else :\n",
        "  print(\"Invalid Input\")"
      ],
      "execution_count": 10,
      "outputs": [
        {
          "output_type": "stream",
          "text": [
            "Press 0 to choose by category , 1 to choose by singer and 2 to get Lord Emraan's playlist 1\n",
            "\n",
            "\n",
            "a : KK\n",
            "\n",
            "b : Shreya Ghoshal\n",
            "\n",
            "c : Arijit Singh\n",
            "\n",
            "d : Sonu Nigam\n",
            "\n",
            "e : Sunidhi Chauhan\n",
            "\n",
            "f : Atif Aslam\n",
            "\n",
            "g : Nusrat Fateh Ali Khan\n",
            "\n",
            "h : Mohit Suri\n",
            "\n",
            "i : Neeraj Shridhar\n",
            "\n",
            "j : Kumar Sanu\n",
            "\n",
            "k : Alka Yagnik\n",
            "\n",
            "l : Others\n",
            "\n",
            "Write reference ID f\n",
            "\n",
            "\n",
            "Songs by Atif Aslam on their way !\n"
          ],
          "name": "stdout"
        }
      ]
    },
    {
      "cell_type": "code",
      "metadata": {
        "colab": {
          "base_uri": "https://localhost:8080/"
        },
        "id": "gz6Yy91U2M_P",
        "outputId": "95b0580f-d0b3-4759-da09-a54d8272b936"
      },
      "source": [
        "def print_playlist(count_index,s,c,l) :\n",
        "  l = YouTube(l)\n",
        " # title_name = l.title\n",
        "  print(str (count_index) + \" : \" + l.title ) \n",
        "  print( \"--- || \" + s + \" --- \" + c + \" || ---\" )\n",
        "  print(\"\\n\")\n",
        "\n",
        "\n",
        "browse_ch = int (input(\"Wish to browse through your playlist ? Press 0 \"+\"\\n\"+\"Wish to browse through the entire collection ? Press 1 \\n\"))\n",
        "print(\"\\n\")\n",
        "\n",
        "song_no = 0\n",
        "count_index = 1\n",
        "num_entries = len(df.index)\n",
        "\n",
        "if (browse_ch == 0) :\n",
        "  while (song_no < num_entries):\n",
        "    try :\n",
        "      c = df.at[song_no, \"Category\"]\n",
        "      s = df.at[song_no, \"Sort by Singer\"]\n",
        "      l = df.at[song_no, \"YouTube Link\"]\n",
        "      e = df.at[song_no, \"Hey, Is it an Emraan Hashmi song ?\"]\n",
        "\n",
        "      if (choice==1):\n",
        "        if s.find(v)!=-1 :\n",
        "          print_playlist(count_index,s,c,l)\n",
        "          count_index += 1\n",
        "      elif (choice==0):\n",
        "        if c.find(v)!=-1 :\n",
        "          print_playlist(count_index,s,c,l)\n",
        "          count_index += 1\n",
        "      elif (choice==2) :\n",
        "        if e == \"Yup !!!\" :\n",
        "          print_playlist(count_index,s,c,l)\n",
        "          count_index += 1\n",
        "      \n",
        "    except Exception as expn : \n",
        "      print(expn)\n",
        "      \n",
        "    song_no += 1\n",
        "\n",
        "elif (browse_ch == 1) :\n",
        "  while (song_no < num_entries):\n",
        "    try :\n",
        "      c = df.at[song_no, \"Category\"]\n",
        "      s = df.at[song_no, \"Sort by Singer\"]\n",
        "      l = df.at[song_no, \"YouTube Link\"]\n",
        "      e = df.at[song_no, \"Hey, Is it an Emraan Hashmi song ?\"]\n",
        "      print_playlist(count_index,s,c,l)\n",
        "      count_index += 1\n",
        "    except Exception as expn : \n",
        "      print(expn)\n",
        "      \n",
        "    song_no += 1\n",
        "\n",
        "else :\n",
        "  print(\"Invalid Input\")\n",
        "\n",
        "if (browse_ch == 1 or browse_ch == 0) and (count_index == 1) :\n",
        "  print(\"No such Songs are available in our collection \")"
      ],
      "execution_count": 11,
      "outputs": [
        {
          "output_type": "stream",
          "text": [
            "Wish to browse through your playlist ? Press 0 \n",
            "Wish to browse through the entire collection ? Press 1 \n",
            "0\n",
            "\n",
            "\n",
            "1 : Aadat (Juda Hoke Bhi) - Atif Aslam - Kunal Khemu - Kalyug [2005]\n",
            "--- || Atif Aslam --- Sad, Calm || ---\n",
            "\n",
            "\n",
            "2 : Woh Lamhe Woh Baatein | Audio | Atif Aslam | Emraan Hashmi | Zeher | Shamita Shetty | Udita Goswami\n",
            "--- || Atif Aslam --- Romantic, Calm || ---\n",
            "\n",
            "\n",
            "3 : Jeena Jeena (Audio Song) | Badlapur | Varun Dhawan, Yami Gautam & Nawazuddin Siddiqui\n",
            "--- || Atif Aslam --- Romantic, Calm || ---\n",
            "\n",
            "\n"
          ],
          "name": "stdout"
        }
      ]
    },
    {
      "cell_type": "code",
      "metadata": {
        "colab": {
          "base_uri": "https://localhost:8080/",
          "height": 538
        },
        "id": "HIcia2CCnTGw",
        "outputId": "7a7a90be-d950-4534-f6e9-fc767b741015"
      },
      "source": [
        "song_no = 0\n",
        "count_index = 0\n",
        "num_entries = len(df.index)\n",
        "while (song_no < num_entries):\n",
        "  try :\n",
        "    c = df.at[song_no, \"Category\"]\n",
        "    s = df.at[song_no, \"Sort by Singer\"]\n",
        "    l = df.at[song_no, \"YouTube Link\"]\n",
        "    e = df.at[song_no, \"Hey, Is it an Emraan Hashmi song ?\"]\n",
        "\n",
        "    if (choice==1):\n",
        "      if s.find(v)!=-1 :\n",
        "        count_index += 1\n",
        "        a,b = vid_download(l)\n",
        "        vidtoaud(a,b,c,s)\n",
        "    elif (choice==0):\n",
        "      if c.find(v)!=-1 :\n",
        "        count_index += 1\n",
        "        a,b = vid_download(l)\n",
        "        vidtoaud(a,b,c,s)\n",
        "    elif (choice==2) :\n",
        "      if e == \"Yup !!!\" :\n",
        "        count_index += 1\n",
        "        a,b = vid_download(l)\n",
        "        vidtoaud(a,b,c,s)\n",
        "    \n",
        "  except Exception as expn : \n",
        "    print(expn)\n",
        "    print(\"\\n\")\n",
        "    \n",
        "  song_no += 1\n",
        "\n",
        "if (count_index == 0) :\n",
        "  print(\"No such Songs are available in our collection \")\n",
        "else :\n",
        "  print(\"Playlist Getting Ready !!!\")\n",
        "\n",
        "  # Creating the zip file\n",
        "\n",
        "  old_name = \"/content/Songs\"\n",
        "  new_name = \"/content/\" + v\n",
        "  os.rename(old_name,new_name)\n",
        "  shutil.make_archive(new_name, 'zip', new_name)\n",
        "  new_name += \".zip\"\n",
        "  files.download(new_name)"
      ],
      "execution_count": 12,
      "outputs": [
        {
          "output_type": "stream",
          "text": [
            "Title:  Aadat (Juda Hoke Bhi) - Atif Aslam - Kunal Khemu - Kalyug [2005]\n",
            "Number of views:  31786550\n",
            "Length of video:  335\n",
            "Rating of video:  4.8183942\n",
            "Downloading...\n",
            "Download completed!!\n",
            "<moviepy.video.io.VideoFileClip.VideoFileClip object at 0x7f4a1b0bfed0>\n",
            "[MoviePy] Writing audio in /content/Songs/Aadat (Juda Hoke Bhi) - Atif Aslam - Kunal Khemu - Kalyug [2005].mp3\n"
          ],
          "name": "stdout"
        },
        {
          "output_type": "stream",
          "text": [
            "100%|██████████| 7389/7389 [00:11<00:00, 649.47it/s]"
          ],
          "name": "stderr"
        },
        {
          "output_type": "stream",
          "text": [
            "[MoviePy] Done.\n"
          ],
          "name": "stdout"
        },
        {
          "output_type": "stream",
          "text": [
            "\n"
          ],
          "name": "stderr"
        },
        {
          "output_type": "stream",
          "text": [
            "Title:  Woh Lamhe Woh Baatein | Audio | Atif Aslam | Emraan Hashmi | Zeher | Shamita Shetty | Udita Goswami\n",
            "Number of views:  45681462\n",
            "Length of video:  320\n",
            "Rating of video:  4.8088603\n",
            "Downloading...\n",
            "Download completed!!\n",
            "<moviepy.video.io.VideoFileClip.VideoFileClip object at 0x7f4a1b00cb50>\n",
            "[MoviePy] Writing audio in /content/Songs/Woh Lamhe Woh Baatein  Audio  Atif Aslam  Emraan Hashmi  Zeher  Shamita Shetty  Udita Goswami.mp3\n"
          ],
          "name": "stdout"
        },
        {
          "output_type": "stream",
          "text": [
            "100%|██████████| 7058/7058 [00:11<00:00, 620.70it/s]"
          ],
          "name": "stderr"
        },
        {
          "output_type": "stream",
          "text": [
            "[MoviePy] Done.\n"
          ],
          "name": "stdout"
        },
        {
          "output_type": "stream",
          "text": [
            "\n"
          ],
          "name": "stderr"
        },
        {
          "output_type": "stream",
          "text": [
            "Title:  Jeena Jeena (Audio Song) | Badlapur | Varun Dhawan, Yami Gautam & Nawazuddin Siddiqui\n",
            "Number of views:  60660438\n",
            "Length of video:  235\n",
            "Rating of video:  4.8277903\n",
            "Downloading...\n",
            "Download completed!!\n",
            "<moviepy.video.io.VideoFileClip.VideoFileClip object at 0x7f4a1b03ac50>\n",
            "[MoviePy] Writing audio in /content/Songs/Jeena Jeena (Audio Song)  Badlapur  Varun Dhawan Yami Gautam & Nawazuddin Siddiqui.mp3\n"
          ],
          "name": "stdout"
        },
        {
          "output_type": "stream",
          "text": [
            "100%|██████████| 5186/5186 [00:08<00:00, 604.57it/s]"
          ],
          "name": "stderr"
        },
        {
          "output_type": "stream",
          "text": [
            "[MoviePy] Done.\n"
          ],
          "name": "stdout"
        },
        {
          "output_type": "stream",
          "text": [
            "\n"
          ],
          "name": "stderr"
        },
        {
          "output_type": "stream",
          "text": [
            "Playlist Getting Ready !!!\n"
          ],
          "name": "stdout"
        },
        {
          "output_type": "display_data",
          "data": {
            "application/javascript": [
              "\n",
              "    async function download(id, filename, size) {\n",
              "      if (!google.colab.kernel.accessAllowed) {\n",
              "        return;\n",
              "      }\n",
              "      const div = document.createElement('div');\n",
              "      const label = document.createElement('label');\n",
              "      label.textContent = `Downloading \"${filename}\": `;\n",
              "      div.appendChild(label);\n",
              "      const progress = document.createElement('progress');\n",
              "      progress.max = size;\n",
              "      div.appendChild(progress);\n",
              "      document.body.appendChild(div);\n",
              "\n",
              "      const buffers = [];\n",
              "      let downloaded = 0;\n",
              "\n",
              "      const channel = await google.colab.kernel.comms.open(id);\n",
              "      // Send a message to notify the kernel that we're ready.\n",
              "      channel.send({})\n",
              "\n",
              "      for await (const message of channel.messages) {\n",
              "        // Send a message to notify the kernel that we're ready.\n",
              "        channel.send({})\n",
              "        if (message.buffers) {\n",
              "          for (const buffer of message.buffers) {\n",
              "            buffers.push(buffer);\n",
              "            downloaded += buffer.byteLength;\n",
              "            progress.value = downloaded;\n",
              "          }\n",
              "        }\n",
              "      }\n",
              "      const blob = new Blob(buffers, {type: 'application/binary'});\n",
              "      const a = document.createElement('a');\n",
              "      a.href = window.URL.createObjectURL(blob);\n",
              "      a.download = filename;\n",
              "      div.appendChild(a);\n",
              "      a.click();\n",
              "      div.remove();\n",
              "    }\n",
              "  "
            ],
            "text/plain": [
              "<IPython.core.display.Javascript object>"
            ]
          },
          "metadata": {
            "tags": []
          }
        },
        {
          "output_type": "display_data",
          "data": {
            "application/javascript": [
              "download(\"download_dae9f520-321c-4e3e-a5c8-540a4f204809\", \"Atif Aslam.zip\", 14153146)"
            ],
            "text/plain": [
              "<IPython.core.display.Javascript object>"
            ]
          },
          "metadata": {
            "tags": []
          }
        }
      ]
    },
    {
      "cell_type": "code",
      "metadata": {
        "id": "cj4FnUYDAa7O"
      },
      "source": [
        "# Clearing the Folders and Files\n",
        "dir = \"/content/\" + v\n",
        "for f in os.listdir(dir):\n",
        "  os.remove(os.path.join(dir, f))\n",
        "os.rmdir(dir) \n",
        "os.remove(new_name)"
      ],
      "execution_count": 13,
      "outputs": []
    }
  ]
}